{
 "cells": [
  {
   "cell_type": "code",
   "execution_count": 1,
   "id": "1e888e35",
   "metadata": {},
   "outputs": [],
   "source": [
    "# this is for jo\n",
    "import os\n",
    "os.chdir('../')"
   ]
  },
  {
   "cell_type": "code",
   "execution_count": 5,
   "id": "8c5c0bd1-0202-4e97-ab24-09b51dc90195",
   "metadata": {},
   "outputs": [
    {
     "ename": "KeyboardInterrupt",
     "evalue": "",
     "output_type": "error",
     "traceback": [
      "\u001b[0;31m---------------------------------------------------------------------------\u001b[0m",
      "\u001b[0;31mKeyboardInterrupt\u001b[0m                         Traceback (most recent call last)",
      "Input \u001b[0;32mIn [5]\u001b[0m, in \u001b[0;36m<cell line: 51>\u001b[0;34m()\u001b[0m\n\u001b[1;32m     39\u001b[0m x\u001b[38;5;241m.\u001b[39mmove((\u001b[38;5;241m80\u001b[39m, \u001b[38;5;241m40\u001b[39m))\n\u001b[1;32m     40\u001b[0m \u001b[38;5;66;03m# x.move((130, 50))\u001b[39;00m\n\u001b[1;32m     41\u001b[0m \u001b[38;5;66;03m# x.move((130, 5))\u001b[39;00m\n\u001b[1;32m     42\u001b[0m \n\u001b[0;32m   (...)\u001b[0m\n\u001b[1;32m     49\u001b[0m \n\u001b[1;32m     50\u001b[0m \u001b[38;5;66;03m# route = gf.routing.get_route(mmi1.ports[\"o2\"], mmi2.ports[\"o2\"], component=c, component_margin=10)\u001b[39;00m\n\u001b[0;32m---> 51\u001b[0m route \u001b[38;5;241m=\u001b[39m \u001b[43mgf\u001b[49m\u001b[38;5;241;43m.\u001b[39;49m\u001b[43mrouting\u001b[49m\u001b[38;5;241;43m.\u001b[39;49m\u001b[43mget_route\u001b[49m\u001b[43m(\u001b[49m\u001b[43mmmi1\u001b[49m\u001b[38;5;241;43m.\u001b[39;49m\u001b[43mports\u001b[49m\u001b[43m[\u001b[49m\u001b[38;5;124;43m\"\u001b[39;49m\u001b[38;5;124;43mo2\u001b[39;49m\u001b[38;5;124;43m\"\u001b[39;49m\u001b[43m]\u001b[49m\u001b[43m,\u001b[49m\u001b[43m \u001b[49m\u001b[43mmmi2\u001b[49m\u001b[38;5;241;43m.\u001b[39;49m\u001b[43mports\u001b[49m\u001b[43m[\u001b[49m\u001b[38;5;124;43m\"\u001b[39;49m\u001b[38;5;124;43mo2\u001b[39;49m\u001b[38;5;124;43m\"\u001b[39;49m\u001b[43m]\u001b[49m\u001b[43m,\u001b[49m\u001b[43m \u001b[49m\u001b[43mcomponent\u001b[49m\u001b[38;5;241;43m=\u001b[39;49m\u001b[43mc\u001b[49m\u001b[43m,\u001b[49m\u001b[43m \u001b[49m\u001b[43mcomponent_margin\u001b[49m\u001b[38;5;241;43m=\u001b[39;49m\u001b[38;5;241;43m10\u001b[39;49m\u001b[43m)\u001b[49m\n\u001b[1;32m     52\u001b[0m c\u001b[38;5;241m.\u001b[39madd(route\u001b[38;5;241m.\u001b[39mreferences)\n\u001b[1;32m     53\u001b[0m c\u001b[38;5;241m.\u001b[39mplot()\n",
      "File \u001b[0;32m/Library/Frameworks/Python.framework/Versions/3.10/lib/python3.10/site-packages/pydantic/validate_call_decorator.py:58\u001b[0m, in \u001b[0;36mvalidate_call.<locals>.validate.<locals>.wrapper_function\u001b[0;34m(*args, **kwargs)\u001b[0m\n\u001b[1;32m     56\u001b[0m \u001b[38;5;129m@functools\u001b[39m\u001b[38;5;241m.\u001b[39mwraps(function)\n\u001b[1;32m     57\u001b[0m \u001b[38;5;28;01mdef\u001b[39;00m \u001b[38;5;21mwrapper_function\u001b[39m(\u001b[38;5;241m*\u001b[39margs, \u001b[38;5;241m*\u001b[39m\u001b[38;5;241m*\u001b[39mkwargs):\n\u001b[0;32m---> 58\u001b[0m     \u001b[38;5;28;01mreturn\u001b[39;00m \u001b[43mvalidate_call_wrapper\u001b[49m\u001b[43m(\u001b[49m\u001b[38;5;241;43m*\u001b[39;49m\u001b[43margs\u001b[49m\u001b[43m,\u001b[49m\u001b[43m \u001b[49m\u001b[38;5;241;43m*\u001b[39;49m\u001b[38;5;241;43m*\u001b[39;49m\u001b[43mkwargs\u001b[49m\u001b[43m)\u001b[49m\n",
      "File \u001b[0;32m/Library/Frameworks/Python.framework/Versions/3.10/lib/python3.10/site-packages/pydantic/_internal/_validate_call.py:81\u001b[0m, in \u001b[0;36mValidateCallWrapper.__call__\u001b[0;34m(self, *args, **kwargs)\u001b[0m\n\u001b[1;32m     80\u001b[0m \u001b[38;5;28;01mdef\u001b[39;00m \u001b[38;5;21m__call__\u001b[39m(\u001b[38;5;28mself\u001b[39m, \u001b[38;5;241m*\u001b[39margs: Any, \u001b[38;5;241m*\u001b[39m\u001b[38;5;241m*\u001b[39mkwargs: Any) \u001b[38;5;241m-\u001b[39m\u001b[38;5;241m>\u001b[39m Any:\n\u001b[0;32m---> 81\u001b[0m     res \u001b[38;5;241m=\u001b[39m \u001b[38;5;28;43mself\u001b[39;49m\u001b[38;5;241;43m.\u001b[39;49m\u001b[43m__pydantic_validator__\u001b[49m\u001b[38;5;241;43m.\u001b[39;49m\u001b[43mvalidate_python\u001b[49m\u001b[43m(\u001b[49m\u001b[43mpydantic_core\u001b[49m\u001b[38;5;241;43m.\u001b[39;49m\u001b[43mArgsKwargs\u001b[49m\u001b[43m(\u001b[49m\u001b[43margs\u001b[49m\u001b[43m,\u001b[49m\u001b[43m \u001b[49m\u001b[43mkwargs\u001b[49m\u001b[43m)\u001b[49m\u001b[43m)\u001b[49m\n\u001b[1;32m     82\u001b[0m     \u001b[38;5;28;01mif\u001b[39;00m \u001b[38;5;28mself\u001b[39m\u001b[38;5;241m.\u001b[39m__return_pydantic_validator__:\n\u001b[1;32m     83\u001b[0m         \u001b[38;5;28;01mreturn\u001b[39;00m \u001b[38;5;28mself\u001b[39m\u001b[38;5;241m.\u001b[39m__return_pydantic_validator__(res)\n",
      "File \u001b[0;32m~/Library/Mobile Documents/com~apple~CloudDocs/UofT/Year 4/Capstone (ECE472)/GDS Factory/gdsfactory/gdsfactory/routing/get_route.py:180\u001b[0m, in \u001b[0;36mget_route\u001b[0;34m(input_port, output_port, component, component_margin, bend, with_sbend, straight, taper, start_straight_length, end_straight_length, min_straight_length, cross_section, **kwargs)\u001b[0m\n\u001b[1;32m    177\u001b[0m \u001b[38;5;28;01melif\u001b[39;00m taper \u001b[38;5;129;01mand\u001b[39;00m cross_section \u001b[38;5;129;01mis\u001b[39;00m \u001b[38;5;28;01mNone\u001b[39;00m:\n\u001b[1;32m    178\u001b[0m     taper \u001b[38;5;241m=\u001b[39m gf\u001b[38;5;241m.\u001b[39mget_component(taper)\n\u001b[0;32m--> 180\u001b[0m \u001b[38;5;28;01mreturn\u001b[39;00m \u001b[43mroute_manhattan\u001b[49m\u001b[43m(\u001b[49m\n\u001b[1;32m    181\u001b[0m \u001b[43m    \u001b[49m\u001b[43minput_port\u001b[49m\u001b[38;5;241;43m=\u001b[39;49m\u001b[43minput_port\u001b[49m\u001b[43m,\u001b[49m\n\u001b[1;32m    182\u001b[0m \u001b[43m    \u001b[49m\u001b[43moutput_port\u001b[49m\u001b[38;5;241;43m=\u001b[39;49m\u001b[43moutput_port\u001b[49m\u001b[43m,\u001b[49m\n\u001b[1;32m    183\u001b[0m \u001b[43m    \u001b[49m\u001b[43mstraight\u001b[49m\u001b[38;5;241;43m=\u001b[39;49m\u001b[43mstraight\u001b[49m\u001b[43m,\u001b[49m\n\u001b[1;32m    184\u001b[0m \u001b[43m    \u001b[49m\u001b[43mtaper\u001b[49m\u001b[38;5;241;43m=\u001b[39;49m\u001b[43mtaper\u001b[49m\u001b[43m,\u001b[49m\n\u001b[1;32m    185\u001b[0m \u001b[43m    \u001b[49m\u001b[43mstart_straight_length\u001b[49m\u001b[38;5;241;43m=\u001b[39;49m\u001b[43mstart_straight_length\u001b[49m\u001b[43m,\u001b[49m\n\u001b[1;32m    186\u001b[0m \u001b[43m    \u001b[49m\u001b[43mend_straight_length\u001b[49m\u001b[38;5;241;43m=\u001b[39;49m\u001b[43mend_straight_length\u001b[49m\u001b[43m,\u001b[49m\n\u001b[1;32m    187\u001b[0m \u001b[43m    \u001b[49m\u001b[43mmin_straight_length\u001b[49m\u001b[38;5;241;43m=\u001b[39;49m\u001b[43mmin_straight_length\u001b[49m\u001b[43m,\u001b[49m\n\u001b[1;32m    188\u001b[0m \u001b[43m    \u001b[49m\u001b[43mbend\u001b[49m\u001b[38;5;241;43m=\u001b[39;49m\u001b[43mbend90\u001b[49m\u001b[43m,\u001b[49m\n\u001b[1;32m    189\u001b[0m \u001b[43m    \u001b[49m\u001b[43mwith_sbend\u001b[49m\u001b[38;5;241;43m=\u001b[39;49m\u001b[43mwith_sbend\u001b[49m\u001b[43m,\u001b[49m\n\u001b[1;32m    190\u001b[0m \u001b[43m    \u001b[49m\u001b[43mcross_section\u001b[49m\u001b[38;5;241;43m=\u001b[39;49m\u001b[43mcross_section\u001b[49m\u001b[43m,\u001b[49m\n\u001b[1;32m    191\u001b[0m \u001b[43m    \u001b[49m\u001b[43mrestricted_area\u001b[49m\u001b[38;5;241;43m=\u001b[39;49m\u001b[43mrestricted_area\u001b[49m\n\u001b[1;32m    192\u001b[0m \u001b[43m\u001b[49m\u001b[43m)\u001b[49m\n",
      "File \u001b[0;32m~/Library/Mobile Documents/com~apple~CloudDocs/UofT/Year 4/Capstone (ECE472)/GDS Factory/gdsfactory/gdsfactory/routing/manhattan.py:1102\u001b[0m, in \u001b[0;36mroute_manhattan\u001b[0;34m(input_port, output_port, straight, taper, start_straight_length, end_straight_length, min_straight_length, bend, with_sbend, cross_section, restricted_area, with_point_markers, on_route_error, **kwargs)\u001b[0m\n\u001b[1;32m   1099\u001b[0m     x \u001b[38;5;241m=\u001b[39m cross_section \u001b[38;5;241m=\u001b[39m \u001b[38;5;28;01mNone\u001b[39;00m\n\u001b[1;32m   1101\u001b[0m \u001b[38;5;28;01mtry\u001b[39;00m:\n\u001b[0;32m-> 1102\u001b[0m     points \u001b[38;5;241m=\u001b[39m \u001b[43mgenerate_manhattan_waypoints\u001b[49m\u001b[43m(\u001b[49m\n\u001b[1;32m   1103\u001b[0m \u001b[43m        \u001b[49m\u001b[43minput_port\u001b[49m\u001b[43m,\u001b[49m\n\u001b[1;32m   1104\u001b[0m \u001b[43m        \u001b[49m\u001b[43moutput_port\u001b[49m\u001b[43m,\u001b[49m\n\u001b[1;32m   1105\u001b[0m \u001b[43m        \u001b[49m\u001b[43mstart_straight_length\u001b[49m\u001b[38;5;241;43m=\u001b[39;49m\u001b[43mstart_straight_length\u001b[49m\u001b[43m,\u001b[49m\n\u001b[1;32m   1106\u001b[0m \u001b[43m        \u001b[49m\u001b[43mend_straight_length\u001b[49m\u001b[38;5;241;43m=\u001b[39;49m\u001b[43mend_straight_length\u001b[49m\u001b[43m,\u001b[49m\n\u001b[1;32m   1107\u001b[0m \u001b[43m        \u001b[49m\u001b[43mmin_straight_length\u001b[49m\u001b[38;5;241;43m=\u001b[39;49m\u001b[43mmin_straight_length\u001b[49m\u001b[43m,\u001b[49m\n\u001b[1;32m   1108\u001b[0m \u001b[43m        \u001b[49m\u001b[43mbend\u001b[49m\u001b[38;5;241;43m=\u001b[39;49m\u001b[43mbend\u001b[49m\u001b[43m,\u001b[49m\n\u001b[1;32m   1109\u001b[0m \u001b[43m        \u001b[49m\u001b[43mcross_section\u001b[49m\u001b[38;5;241;43m=\u001b[39;49m\u001b[43mx\u001b[49m\u001b[43m,\u001b[49m\n\u001b[1;32m   1110\u001b[0m \u001b[43m        \u001b[49m\u001b[43mrestricted_area\u001b[49m\u001b[38;5;241;43m=\u001b[39;49m\u001b[43mrestricted_area\u001b[49m\n\u001b[1;32m   1111\u001b[0m \u001b[43m    \u001b[49m\u001b[43m)\u001b[49m\n\u001b[1;32m   1112\u001b[0m     \u001b[38;5;28;01mreturn\u001b[39;00m round_corners(\n\u001b[1;32m   1113\u001b[0m         points\u001b[38;5;241m=\u001b[39mpoints,\n\u001b[1;32m   1114\u001b[0m         straight\u001b[38;5;241m=\u001b[39mstraight,\n\u001b[0;32m   (...)\u001b[0m\n\u001b[1;32m   1120\u001b[0m         on_route_error\u001b[38;5;241m=\u001b[39mon_route_error,\n\u001b[1;32m   1121\u001b[0m     )\n\u001b[1;32m   1123\u001b[0m \u001b[38;5;28;01mexcept\u001b[39;00m RouteError:\n",
      "File \u001b[0;32m~/Library/Mobile Documents/com~apple~CloudDocs/UofT/Year 4/Capstone (ECE472)/GDS Factory/gdsfactory/gdsfactory/routing/manhattan.py:1021\u001b[0m, in \u001b[0;36mgenerate_manhattan_waypoints\u001b[0;34m(input_port, output_port, start_straight_length, end_straight_length, min_straight_length, bend, cross_section, restricted_area, **kwargs)\u001b[0m\n\u001b[1;32m   1018\u001b[0m bsx \u001b[38;5;241m=\u001b[39m bsy \u001b[38;5;241m=\u001b[39m _get_bend_size(bend90)\n\u001b[1;32m   1019\u001b[0m bs \u001b[38;5;241m=\u001b[39m _get_bend_size(bend90)\n\u001b[0;32m-> 1021\u001b[0m \u001b[38;5;28;01mreturn\u001b[39;00m \u001b[43mgenerate_route_astar_points\u001b[49m\u001b[43m(\u001b[49m\n\u001b[1;32m   1022\u001b[0m \u001b[43m    \u001b[49m\u001b[43minput_port\u001b[49m\u001b[43m,\u001b[49m\n\u001b[1;32m   1023\u001b[0m \u001b[43m    \u001b[49m\u001b[43moutput_port\u001b[49m\u001b[43m,\u001b[49m\n\u001b[1;32m   1024\u001b[0m \u001b[43m    \u001b[49m\u001b[43mbs\u001b[49m\u001b[43m,\u001b[49m\n\u001b[1;32m   1025\u001b[0m \u001b[43m    \u001b[49m\u001b[43mstart_straight_length\u001b[49m\u001b[43m,\u001b[49m\n\u001b[1;32m   1026\u001b[0m \u001b[43m    \u001b[49m\u001b[43mend_straight_length\u001b[49m\u001b[43m,\u001b[49m\n\u001b[1;32m   1027\u001b[0m \u001b[43m    \u001b[49m\u001b[43mmin_straight_length\u001b[49m\u001b[43m,\u001b[49m\n\u001b[1;32m   1028\u001b[0m \u001b[43m    \u001b[49m\u001b[43mrestricted_area\u001b[49m\n\u001b[1;32m   1029\u001b[0m \u001b[43m\u001b[49m\u001b[43m)\u001b[49m\n\u001b[1;32m   1030\u001b[0m \u001b[38;5;28;01mreturn\u001b[39;00m _generate_route_manhattan_points(\n\u001b[1;32m   1031\u001b[0m     input_port,\n\u001b[1;32m   1032\u001b[0m     output_port,\n\u001b[0;32m   (...)\u001b[0m\n\u001b[1;32m   1037\u001b[0m     min_straight_length,\n\u001b[1;32m   1038\u001b[0m )\n",
      "File \u001b[0;32m~/Library/Mobile Documents/com~apple~CloudDocs/UofT/Year 4/Capstone (ECE472)/GDS Factory/gdsfactory/gdsfactory/routing/get_route_waypoints_astar.py:356\u001b[0m, in \u001b[0;36mgenerate_route_astar_points\u001b[0;34m(input_port, output_port, bs, start_straight_length, end_straight_length, min_straight_length, restricted_area)\u001b[0m\n\u001b[1;32m    352\u001b[0m \u001b[38;5;28;01melif\u001b[39;00m output_port\u001b[38;5;241m.\u001b[39morientation \u001b[38;5;241m==\u001b[39m \u001b[38;5;241m180.0\u001b[39m:\n\u001b[1;32m    353\u001b[0m     end_pos[\u001b[38;5;241m0\u001b[39m] \u001b[38;5;241m-\u001b[39m\u001b[38;5;241m=\u001b[39m \u001b[38;5;28mmax\u001b[39m(bs, end_straight_length, min_straight_length)\n\u001b[0;32m--> 356\u001b[0m A_star_path \u001b[38;5;241m=\u001b[39m \u001b[43mA_star\u001b[49m\u001b[43m(\u001b[49m\u001b[43mdims_to_ints\u001b[49m\u001b[43m(\u001b[49m\u001b[43mstart_pos\u001b[49m\u001b[43m,\u001b[49m\u001b[43m \u001b[49m\u001b[38;5;241;43m10\u001b[39;49m\u001b[43m)\u001b[49m\u001b[43m,\u001b[49m\u001b[43m \u001b[49m\u001b[43mdims_to_ints\u001b[49m\u001b[43m(\u001b[49m\u001b[43mend_pos\u001b[49m\u001b[43m,\u001b[49m\u001b[43m \u001b[49m\u001b[38;5;241;43m10\u001b[39;49m\u001b[43m)\u001b[49m\u001b[43m,\u001b[49m\u001b[43m \u001b[49m\u001b[43msearch_space\u001b[49m\u001b[43m,\u001b[49m\u001b[43m \u001b[49m\u001b[43mbs\u001b[49m\u001b[38;5;241;43m=\u001b[39;49m\u001b[43mbs\u001b[49m\u001b[43m)\u001b[49m\n\u001b[1;32m    357\u001b[0m waypoints \u001b[38;5;241m=\u001b[39m waypoints_from_path(A_star_path)\n\u001b[1;32m    359\u001b[0m \u001b[38;5;66;03m# Check if waypoints[0] -> waypoints[1] is going in the same direction as i_port_pos -> waypoints[0]\u001b[39;00m\n\u001b[1;32m    360\u001b[0m \u001b[38;5;66;03m# then replace waypoints[0] with the input position\u001b[39;00m\n\u001b[1;32m    361\u001b[0m \u001b[38;5;66;03m# otherwise add the input position to waypoints\u001b[39;00m\n",
      "File \u001b[0;32m~/Library/Mobile Documents/com~apple~CloudDocs/UofT/Year 4/Capstone (ECE472)/GDS Factory/gdsfactory/gdsfactory/routing/get_route_waypoints_astar.py:317\u001b[0m, in \u001b[0;36mA_star\u001b[0;34m(start_pos, end_pos, search_space, bs)\u001b[0m\n\u001b[1;32m    315\u001b[0m                     \u001b[38;5;66;03m# add to queue\u001b[39;00m\n\u001b[1;32m    316\u001b[0m                     f \u001b[38;5;241m=\u001b[39m manhattan_heur(x, y, end_x, end_y) \u001b[38;5;241m+\u001b[39m search_space[x_n][y_n]\u001b[38;5;241m.\u001b[39mcost \u001b[38;5;241m-\u001b[39m \u001b[38;5;241m1\u001b[39m \n\u001b[0;32m--> 317\u001b[0m                     \u001b[43mq\u001b[49m\u001b[38;5;241;43m.\u001b[39;49m\u001b[43minsert\u001b[49m\u001b[43m(\u001b[49m\u001b[43msearch_space\u001b[49m\u001b[43m[\u001b[49m\u001b[43mx_n\u001b[49m\u001b[43m]\u001b[49m\u001b[43m[\u001b[49m\u001b[43my_n\u001b[49m\u001b[43m]\u001b[49m\u001b[43m,\u001b[49m\u001b[43m \u001b[49m\u001b[43mf\u001b[49m\u001b[43m)\u001b[49m\n\u001b[1;32m    320\u001b[0m \u001b[38;5;66;03m# retrieve the path\u001b[39;00m\n\u001b[1;32m    321\u001b[0m \u001b[38;5;28;01mif\u001b[39;00m curr_node \u001b[38;5;241m!=\u001b[39m search_space[end_x][end_y]:\n",
      "File \u001b[0;32m~/Library/Mobile Documents/com~apple~CloudDocs/UofT/Year 4/Capstone (ECE472)/GDS Factory/gdsfactory/gdsfactory/routing/get_route_waypoints_astar.py:48\u001b[0m, in \u001b[0;36mPriorityQueue.insert\u001b[0;34m(self, data, value)\u001b[0m\n\u001b[1;32m     46\u001b[0m \u001b[38;5;28;01mdef\u001b[39;00m \u001b[38;5;21minsert\u001b[39m(\u001b[38;5;28mself\u001b[39m, data, value):\n\u001b[1;32m     47\u001b[0m     \u001b[38;5;28mself\u001b[39m\u001b[38;5;241m.\u001b[39mqueue_dict[data] \u001b[38;5;241m=\u001b[39m value\n\u001b[0;32m---> 48\u001b[0m     \u001b[38;5;28;43mself\u001b[39;49m\u001b[38;5;241;43m.\u001b[39;49m\u001b[43msortQueue\u001b[49m\u001b[43m(\u001b[49m\u001b[43m)\u001b[49m\n",
      "File \u001b[0;32m~/Library/Mobile Documents/com~apple~CloudDocs/UofT/Year 4/Capstone (ECE472)/GDS Factory/gdsfactory/gdsfactory/routing/get_route_waypoints_astar.py:42\u001b[0m, in \u001b[0;36mPriorityQueue.sortQueue\u001b[0;34m(self)\u001b[0m\n\u001b[1;32m     41\u001b[0m \u001b[38;5;28;01mdef\u001b[39;00m \u001b[38;5;21msortQueue\u001b[39m(\u001b[38;5;28mself\u001b[39m):\n\u001b[0;32m---> 42\u001b[0m     \u001b[38;5;28mself\u001b[39m\u001b[38;5;241m.\u001b[39mqueue \u001b[38;5;241m=\u001b[39m \u001b[38;5;28;43msorted\u001b[39;49m\u001b[43m(\u001b[49m\u001b[38;5;28;43mself\u001b[39;49m\u001b[38;5;241;43m.\u001b[39;49m\u001b[43mqueue_dict\u001b[49m\u001b[38;5;241;43m.\u001b[39;49m\u001b[43mitems\u001b[49m\u001b[43m(\u001b[49m\u001b[43m)\u001b[49m\u001b[43m,\u001b[49m\u001b[43m \u001b[49m\u001b[43mkey\u001b[49m\u001b[38;5;241;43m=\u001b[39;49m\u001b[38;5;28;43;01mlambda\u001b[39;49;00m\u001b[43m \u001b[49m\u001b[43mx\u001b[49m\u001b[43m:\u001b[49m\u001b[43mx\u001b[49m\u001b[43m[\u001b[49m\u001b[38;5;241;43m1\u001b[39;49m\u001b[43m]\u001b[49m\u001b[43m,\u001b[49m\u001b[43m \u001b[49m\u001b[43mreverse\u001b[49m\u001b[38;5;241;43m=\u001b[39;49m\u001b[38;5;28;43;01mTrue\u001b[39;49;00m\u001b[43m)\u001b[49m \u001b[38;5;66;03m# x[1] because we want to sort by values\u001b[39;00m\n\u001b[1;32m     43\u001b[0m     \u001b[38;5;28mself\u001b[39m\u001b[38;5;241m.\u001b[39mqueue \u001b[38;5;241m=\u001b[39m [x[\u001b[38;5;241m0\u001b[39m] \u001b[38;5;28;01mfor\u001b[39;00m x \u001b[38;5;129;01min\u001b[39;00m \u001b[38;5;28mself\u001b[39m\u001b[38;5;241m.\u001b[39mqueue]\n",
      "File \u001b[0;32m~/Library/Mobile Documents/com~apple~CloudDocs/UofT/Year 4/Capstone (ECE472)/GDS Factory/gdsfactory/gdsfactory/routing/get_route_waypoints_astar.py:42\u001b[0m, in \u001b[0;36mPriorityQueue.sortQueue.<locals>.<lambda>\u001b[0;34m(x)\u001b[0m\n\u001b[1;32m     41\u001b[0m \u001b[38;5;28;01mdef\u001b[39;00m \u001b[38;5;21msortQueue\u001b[39m(\u001b[38;5;28mself\u001b[39m):\n\u001b[0;32m---> 42\u001b[0m     \u001b[38;5;28mself\u001b[39m\u001b[38;5;241m.\u001b[39mqueue \u001b[38;5;241m=\u001b[39m \u001b[38;5;28msorted\u001b[39m(\u001b[38;5;28mself\u001b[39m\u001b[38;5;241m.\u001b[39mqueue_dict\u001b[38;5;241m.\u001b[39mitems(), key\u001b[38;5;241m=\u001b[39m\u001b[38;5;28;01mlambda\u001b[39;00m x:x[\u001b[38;5;241m1\u001b[39m], reverse\u001b[38;5;241m=\u001b[39m\u001b[38;5;28;01mTrue\u001b[39;00m) \u001b[38;5;66;03m# x[1] because we want to sort by values\u001b[39;00m\n\u001b[1;32m     43\u001b[0m     \u001b[38;5;28mself\u001b[39m\u001b[38;5;241m.\u001b[39mqueue \u001b[38;5;241m=\u001b[39m [x[\u001b[38;5;241m0\u001b[39m] \u001b[38;5;28;01mfor\u001b[39;00m x \u001b[38;5;129;01min\u001b[39;00m \u001b[38;5;28mself\u001b[39m\u001b[38;5;241m.\u001b[39mqueue]\n",
      "\u001b[0;31mKeyboardInterrupt\u001b[0m: "
     ]
    }
   ],
   "source": [
    "# Test Routing\n",
    "from functools import partial\n",
    "import gdsfactory as gf\n",
    "from gdsfactory.cell import cell\n",
    "from gdsfactory.component import Component\n",
    "from gdsfactory.generic_tech import get_generic_pdk\n",
    "from gdsfactory.port import Port\n",
    "\n",
    "gf.config.rich_output()\n",
    "\n",
    "c = gf.Component(\"sample_problem\")\n",
    "mmi1 = c << gf.components.mmi1x2()\n",
    "mmi1.move((0, -0.625))\n",
    "mmi2 = c << gf.components.mmi1x2()\n",
    "mmi2.move((110, 80.375))\n",
    "\n",
    "rec = gf.Component(\"rectangle_polygon\")\n",
    "rec.add_polygon(\n",
    "       [(-10, -10, 10, 10), (-10, 10, 10, -10)], layer=(1, 0)\n",
    "   )\n",
    "x = c << rec\n",
    "x.move((110, 10))\n",
    "#x.move((100, 50))\n",
    "\n",
    "rec2 = gf.Component(\"rectangle_polygon\")\n",
    "rec2.add_polygon(\n",
    "       [(-10, -10, 10, 10), (-10, 10, 10, -10)], layer=(1, 0)\n",
    "   )\n",
    "x = c << rec2\n",
    "# x.move((130, 20))\n",
    "x.move((50, 80))\n",
    "\n",
    "rec3 = gf.Component(\"rectangle_polygon\")\n",
    "rec3.add_polygon(\n",
    "       [(-10, -10, 10, 10), (-10, 10, 10, -10)], layer=(1, 0)\n",
    "   )\n",
    "x = c << rec3\n",
    "# x.move((130, 20))\n",
    "x.move((80, 40))\n",
    "# x.move((130, 50))\n",
    "# x.move((130, 5))\n",
    "\n",
    "# rec2 = gf.Component(\"rectangle_polygon\")\n",
    "# rec2.add_polygon(\n",
    "#        [(-5, -5, 5, 5), (-5, 5, 5, -5)], layer=(1, 0)\n",
    "#    )\n",
    "# y = c << rec2\n",
    "# y.move((115, 30))\n",
    "\n",
    "# route = gf.routing.get_route(mmi1.ports[\"o2\"], mmi2.ports[\"o2\"], component=c, component_margin=5)\n",
    "route = gf.routing.get_route(mmi1.ports[\"o2\"], mmi2.ports[\"o2\"], component=c, component_margin=5)\n",
    "c.add(route.references)\n",
    "c.plot()"
   ]
  },
  {
   "cell_type": "markdown",
   "id": "14",
   "metadata": {},
   "source": [
    "## get_bundle\n",
    "\n",
    "To route groups of ports avoiding waveguide collisions, you should use `get_bundle` instead of `get_route`.\n",
    "\n",
    "`get_bundle` uses a river/bundle/bus router.\n",
    "\n",
    "At the moment it works only when each group of ports have the same orientation.\n"
   ]
  },
  {
   "cell_type": "code",
   "execution_count": 3,
   "id": "15",
   "metadata": {},
   "outputs": [
    {
     "ename": "IndexError",
     "evalue": "list index out of range",
     "output_type": "error",
     "traceback": [
      "\u001b[0;31m---------------------------------------------------------------------------\u001b[0m",
      "\u001b[0;31mIndexError\u001b[0m                                Traceback (most recent call last)",
      "Input \u001b[0;32mIn [3]\u001b[0m, in \u001b[0;36m<cell line: 20>\u001b[0;34m()\u001b[0m\n\u001b[1;32m     17\u001b[0m left_ports\u001b[38;5;241m.\u001b[39mreverse()\n\u001b[1;32m     19\u001b[0m c \u001b[38;5;241m=\u001b[39m gf\u001b[38;5;241m.\u001b[39mComponent(name\u001b[38;5;241m=\u001b[39m\u001b[38;5;124m\"\u001b[39m\u001b[38;5;124mconnect_bundle_v2\u001b[39m\u001b[38;5;124m\"\u001b[39m)\n\u001b[0;32m---> 20\u001b[0m routes \u001b[38;5;241m=\u001b[39m \u001b[43mgf\u001b[49m\u001b[38;5;241;43m.\u001b[39;49m\u001b[43mrouting\u001b[49m\u001b[38;5;241;43m.\u001b[39;49m\u001b[43mget_bundle\u001b[49m\u001b[43m(\u001b[49m\n\u001b[1;32m     21\u001b[0m \u001b[43m    \u001b[49m\u001b[43mleft_ports\u001b[49m\u001b[43m,\u001b[49m\n\u001b[1;32m     22\u001b[0m \u001b[43m    \u001b[49m\u001b[43mright_ports\u001b[49m\u001b[43m,\u001b[49m\n\u001b[1;32m     23\u001b[0m \u001b[43m    \u001b[49m\u001b[43msort_ports\u001b[49m\u001b[38;5;241;43m=\u001b[39;49m\u001b[38;5;28;43;01mTrue\u001b[39;49;00m\u001b[43m,\u001b[49m\n\u001b[1;32m     24\u001b[0m \u001b[43m    \u001b[49m\u001b[43mstart_straight_length\u001b[49m\u001b[38;5;241;43m=\u001b[39;49m\u001b[38;5;241;43m100\u001b[39;49m\u001b[43m,\u001b[49m\n\u001b[1;32m     25\u001b[0m \u001b[43m    \u001b[49m\u001b[43menforce_port_ordering\u001b[49m\u001b[38;5;241;43m=\u001b[39;49m\u001b[38;5;28;43;01mFalse\u001b[39;49;00m\u001b[43m,\u001b[49m\n\u001b[1;32m     26\u001b[0m \u001b[43m)\u001b[49m\n\u001b[1;32m     27\u001b[0m \u001b[38;5;28;01mfor\u001b[39;00m route \u001b[38;5;129;01min\u001b[39;00m routes:\n\u001b[1;32m     28\u001b[0m     c\u001b[38;5;241m.\u001b[39madd(route\u001b[38;5;241m.\u001b[39mreferences)\n",
      "File \u001b[0;32m~/Library/Mobile Documents/com~apple~CloudDocs/UofT/Year 4/Capstone (ECE472)/GDS Factory/gdsfactory/gdsfactory/routing/get_bundle.py:280\u001b[0m, in \u001b[0;36mget_bundle\u001b[0;34m(ports1, ports2, separation, extension_length, straight, bend, with_sbend, sort_ports, cross_section, start_straight_length, end_straight_length, path_length_match_loops, path_length_match_extra_length, path_length_match_modify_segment_i, enforce_port_ordering, steps, waypoints, **kwargs)\u001b[0m\n\u001b[1;32m    273\u001b[0m     \u001b[38;5;28;01mif\u001b[39;00m with_sbend:\n\u001b[1;32m    274\u001b[0m         \u001b[38;5;28;01mreturn\u001b[39;00m get_bundle_sbend(\n\u001b[1;32m    275\u001b[0m             ports1,\n\u001b[1;32m    276\u001b[0m             ports2,\n\u001b[1;32m    277\u001b[0m             sort_ports\u001b[38;5;241m=\u001b[39msort_ports,\n\u001b[1;32m    278\u001b[0m             cross_section\u001b[38;5;241m=\u001b[39mcross_section,\n\u001b[1;32m    279\u001b[0m         )\n\u001b[0;32m--> 280\u001b[0m     \u001b[38;5;28;01mreturn\u001b[39;00m \u001b[43mget_bundle_same_axis\u001b[49m\u001b[43m(\u001b[49m\u001b[38;5;241;43m*\u001b[39;49m\u001b[38;5;241;43m*\u001b[39;49m\u001b[43mparams\u001b[49m\u001b[43m)\u001b[49m\n\u001b[1;32m    282\u001b[0m \u001b[38;5;28;01melif\u001b[39;00m start_angle \u001b[38;5;241m==\u001b[39m end_angle:\n\u001b[1;32m    283\u001b[0m     \u001b[38;5;66;03m# print('get_bundle_udirect')\u001b[39;00m\n\u001b[1;32m    284\u001b[0m     \u001b[38;5;28;01mreturn\u001b[39;00m get_bundle_udirect(\u001b[38;5;241m*\u001b[39m\u001b[38;5;241m*\u001b[39mparams)\n",
      "File \u001b[0;32m~/Library/Mobile Documents/com~apple~CloudDocs/UofT/Year 4/Capstone (ECE472)/GDS Factory/gdsfactory/gdsfactory/routing/get_bundle.py:399\u001b[0m, in \u001b[0;36mget_bundle_same_axis\u001b[0;34m(ports1, ports2, separation, end_straight_length, start_straight_length, bend, straight, sort_ports, path_length_match_loops, path_length_match_extra_length, path_length_match_modify_segment_i, cross_section, enforce_port_ordering, **kwargs)\u001b[0m\n\u001b[1;32m    394\u001b[0m \u001b[38;5;28;01mif\u001b[39;00m sort_ports:\n\u001b[1;32m    395\u001b[0m     ports1, ports2 \u001b[38;5;241m=\u001b[39m sort_ports_function(\n\u001b[1;32m    396\u001b[0m         ports1, ports2, enforce_port_ordering\u001b[38;5;241m=\u001b[39menforce_port_ordering\n\u001b[1;32m    397\u001b[0m     )\n\u001b[0;32m--> 399\u001b[0m routes \u001b[38;5;241m=\u001b[39m \u001b[43m_get_bundle_waypoints\u001b[49m\u001b[43m(\u001b[49m\n\u001b[1;32m    400\u001b[0m \u001b[43m    \u001b[49m\u001b[43mports1\u001b[49m\u001b[43m,\u001b[49m\n\u001b[1;32m    401\u001b[0m \u001b[43m    \u001b[49m\u001b[43mports2\u001b[49m\u001b[43m,\u001b[49m\n\u001b[1;32m    402\u001b[0m \u001b[43m    \u001b[49m\u001b[43mseparation\u001b[49m\u001b[38;5;241;43m=\u001b[39;49m\u001b[43mseparation\u001b[49m\u001b[43m,\u001b[49m\n\u001b[1;32m    403\u001b[0m \u001b[43m    \u001b[49m\u001b[43mbend\u001b[49m\u001b[38;5;241;43m=\u001b[39;49m\u001b[43mbend\u001b[49m\u001b[43m,\u001b[49m\n\u001b[1;32m    404\u001b[0m \u001b[43m    \u001b[49m\u001b[43mcross_section\u001b[49m\u001b[38;5;241;43m=\u001b[39;49m\u001b[43mcross_section\u001b[49m\u001b[43m,\u001b[49m\n\u001b[1;32m    405\u001b[0m \u001b[43m    \u001b[49m\u001b[43mend_straight_length\u001b[49m\u001b[38;5;241;43m=\u001b[39;49m\u001b[43mend_straight_length\u001b[49m\u001b[43m,\u001b[49m\n\u001b[1;32m    406\u001b[0m \u001b[43m    \u001b[49m\u001b[43mstart_straight_length\u001b[49m\u001b[38;5;241;43m=\u001b[39;49m\u001b[43mstart_straight_length\u001b[49m\u001b[43m,\u001b[49m\n\u001b[1;32m    407\u001b[0m \u001b[43m    \u001b[49m\u001b[38;5;241;43m*\u001b[39;49m\u001b[38;5;241;43m*\u001b[39;49m\u001b[43mkwargs\u001b[49m\u001b[43m,\u001b[49m\n\u001b[1;32m    408\u001b[0m \u001b[43m\u001b[49m\u001b[43m)\u001b[49m\n\u001b[1;32m    409\u001b[0m \u001b[38;5;28;01mif\u001b[39;00m path_length_match_loops:\n\u001b[1;32m    410\u001b[0m     routes \u001b[38;5;241m=\u001b[39m [np\u001b[38;5;241m.\u001b[39marray(route) \u001b[38;5;28;01mfor\u001b[39;00m route \u001b[38;5;129;01min\u001b[39;00m routes]\n",
      "File \u001b[0;32m~/Library/Mobile Documents/com~apple~CloudDocs/UofT/Year 4/Capstone (ECE472)/GDS Factory/gdsfactory/gdsfactory/routing/get_bundle.py:544\u001b[0m, in \u001b[0;36m_get_bundle_waypoints\u001b[0;34m(ports1, ports2, separation, end_straight_length, start_straight_length, cross_section, **kwargs)\u001b[0m\n\u001b[1;32m    542\u001b[0m \u001b[38;5;66;03m# Second pass - route the ports pairwise\u001b[39;00m\n\u001b[1;32m    543\u001b[0m N \u001b[38;5;241m=\u001b[39m \u001b[38;5;28mlen\u001b[39m(ports1)\n\u001b[0;32m--> 544\u001b[0m \u001b[38;5;28;01mreturn\u001b[39;00m [\n\u001b[1;32m    545\u001b[0m     generate_manhattan_waypoints(\n\u001b[1;32m    546\u001b[0m         ports1[i],\n\u001b[1;32m    547\u001b[0m         ports2[i],\n\u001b[1;32m    548\u001b[0m         start_straight_length\u001b[38;5;241m=\u001b[39mstart_straight_length,\n\u001b[1;32m    549\u001b[0m         end_straight_length\u001b[38;5;241m=\u001b[39mend_straights[i],\n\u001b[1;32m    550\u001b[0m         cross_section\u001b[38;5;241m=\u001b[39mcross_section,\n\u001b[1;32m    551\u001b[0m         \u001b[38;5;241m*\u001b[39m\u001b[38;5;241m*\u001b[39mkwargs,\n\u001b[1;32m    552\u001b[0m     )\n\u001b[1;32m    553\u001b[0m     \u001b[38;5;28;01mfor\u001b[39;00m i \u001b[38;5;129;01min\u001b[39;00m \u001b[38;5;28mrange\u001b[39m(N)\n\u001b[1;32m    554\u001b[0m ]\n",
      "File \u001b[0;32m~/Library/Mobile Documents/com~apple~CloudDocs/UofT/Year 4/Capstone (ECE472)/GDS Factory/gdsfactory/gdsfactory/routing/get_bundle.py:545\u001b[0m, in \u001b[0;36m<listcomp>\u001b[0;34m(.0)\u001b[0m\n\u001b[1;32m    542\u001b[0m \u001b[38;5;66;03m# Second pass - route the ports pairwise\u001b[39;00m\n\u001b[1;32m    543\u001b[0m N \u001b[38;5;241m=\u001b[39m \u001b[38;5;28mlen\u001b[39m(ports1)\n\u001b[1;32m    544\u001b[0m \u001b[38;5;28;01mreturn\u001b[39;00m [\n\u001b[0;32m--> 545\u001b[0m     \u001b[43mgenerate_manhattan_waypoints\u001b[49m\u001b[43m(\u001b[49m\n\u001b[1;32m    546\u001b[0m \u001b[43m        \u001b[49m\u001b[43mports1\u001b[49m\u001b[43m[\u001b[49m\u001b[43mi\u001b[49m\u001b[43m]\u001b[49m\u001b[43m,\u001b[49m\n\u001b[1;32m    547\u001b[0m \u001b[43m        \u001b[49m\u001b[43mports2\u001b[49m\u001b[43m[\u001b[49m\u001b[43mi\u001b[49m\u001b[43m]\u001b[49m\u001b[43m,\u001b[49m\n\u001b[1;32m    548\u001b[0m \u001b[43m        \u001b[49m\u001b[43mstart_straight_length\u001b[49m\u001b[38;5;241;43m=\u001b[39;49m\u001b[43mstart_straight_length\u001b[49m\u001b[43m,\u001b[49m\n\u001b[1;32m    549\u001b[0m \u001b[43m        \u001b[49m\u001b[43mend_straight_length\u001b[49m\u001b[38;5;241;43m=\u001b[39;49m\u001b[43mend_straights\u001b[49m\u001b[43m[\u001b[49m\u001b[43mi\u001b[49m\u001b[43m]\u001b[49m\u001b[43m,\u001b[49m\n\u001b[1;32m    550\u001b[0m \u001b[43m        \u001b[49m\u001b[43mcross_section\u001b[49m\u001b[38;5;241;43m=\u001b[39;49m\u001b[43mcross_section\u001b[49m\u001b[43m,\u001b[49m\n\u001b[1;32m    551\u001b[0m \u001b[43m        \u001b[49m\u001b[38;5;241;43m*\u001b[39;49m\u001b[38;5;241;43m*\u001b[39;49m\u001b[43mkwargs\u001b[49m\u001b[43m,\u001b[49m\n\u001b[1;32m    552\u001b[0m \u001b[43m    \u001b[49m\u001b[43m)\u001b[49m\n\u001b[1;32m    553\u001b[0m     \u001b[38;5;28;01mfor\u001b[39;00m i \u001b[38;5;129;01min\u001b[39;00m \u001b[38;5;28mrange\u001b[39m(N)\n\u001b[1;32m    554\u001b[0m ]\n",
      "File \u001b[0;32m~/Library/Mobile Documents/com~apple~CloudDocs/UofT/Year 4/Capstone (ECE472)/GDS Factory/gdsfactory/gdsfactory/routing/manhattan.py:1021\u001b[0m, in \u001b[0;36mgenerate_manhattan_waypoints\u001b[0;34m(input_port, output_port, start_straight_length, end_straight_length, min_straight_length, bend, cross_section, restricted_area, **kwargs)\u001b[0m\n\u001b[1;32m   1018\u001b[0m bsx \u001b[38;5;241m=\u001b[39m bsy \u001b[38;5;241m=\u001b[39m _get_bend_size(bend90)\n\u001b[1;32m   1019\u001b[0m bs \u001b[38;5;241m=\u001b[39m _get_bend_size(bend90)\n\u001b[0;32m-> 1021\u001b[0m \u001b[38;5;28;01mreturn\u001b[39;00m \u001b[43mgenerate_route_astar_points\u001b[49m\u001b[43m(\u001b[49m\n\u001b[1;32m   1022\u001b[0m \u001b[43m    \u001b[49m\u001b[43minput_port\u001b[49m\u001b[43m,\u001b[49m\n\u001b[1;32m   1023\u001b[0m \u001b[43m    \u001b[49m\u001b[43moutput_port\u001b[49m\u001b[43m,\u001b[49m\n\u001b[1;32m   1024\u001b[0m \u001b[43m    \u001b[49m\u001b[43mbs\u001b[49m\u001b[43m,\u001b[49m\n\u001b[1;32m   1025\u001b[0m \u001b[43m    \u001b[49m\u001b[43mstart_straight_length\u001b[49m\u001b[43m,\u001b[49m\n\u001b[1;32m   1026\u001b[0m \u001b[43m    \u001b[49m\u001b[43mend_straight_length\u001b[49m\u001b[43m,\u001b[49m\n\u001b[1;32m   1027\u001b[0m \u001b[43m    \u001b[49m\u001b[43mmin_straight_length\u001b[49m\u001b[43m,\u001b[49m\n\u001b[1;32m   1028\u001b[0m \u001b[43m    \u001b[49m\u001b[43mrestricted_area\u001b[49m\n\u001b[1;32m   1029\u001b[0m \u001b[43m\u001b[49m\u001b[43m)\u001b[49m\n\u001b[1;32m   1030\u001b[0m \u001b[38;5;28;01mreturn\u001b[39;00m _generate_route_manhattan_points(\n\u001b[1;32m   1031\u001b[0m     input_port,\n\u001b[1;32m   1032\u001b[0m     output_port,\n\u001b[0;32m   (...)\u001b[0m\n\u001b[1;32m   1037\u001b[0m     min_straight_length,\n\u001b[1;32m   1038\u001b[0m )\n",
      "File \u001b[0;32m~/Library/Mobile Documents/com~apple~CloudDocs/UofT/Year 4/Capstone (ECE472)/GDS Factory/gdsfactory/gdsfactory/routing/get_route_waypoints_astar.py:356\u001b[0m, in \u001b[0;36mgenerate_route_astar_points\u001b[0;34m(input_port, output_port, bs, start_straight_length, end_straight_length, min_straight_length, restricted_area)\u001b[0m\n\u001b[1;32m    352\u001b[0m \u001b[38;5;28;01melif\u001b[39;00m output_port\u001b[38;5;241m.\u001b[39morientation \u001b[38;5;241m==\u001b[39m \u001b[38;5;241m180.0\u001b[39m:\n\u001b[1;32m    353\u001b[0m     end_pos[\u001b[38;5;241m0\u001b[39m] \u001b[38;5;241m-\u001b[39m\u001b[38;5;241m=\u001b[39m \u001b[38;5;28mmax\u001b[39m(bs, end_straight_length, min_straight_length)\n\u001b[0;32m--> 356\u001b[0m A_star_path \u001b[38;5;241m=\u001b[39m \u001b[43mA_star\u001b[49m\u001b[43m(\u001b[49m\u001b[43mdims_to_ints\u001b[49m\u001b[43m(\u001b[49m\u001b[43mstart_pos\u001b[49m\u001b[43m,\u001b[49m\u001b[43m \u001b[49m\u001b[38;5;241;43m10\u001b[39;49m\u001b[43m)\u001b[49m\u001b[43m,\u001b[49m\u001b[43m \u001b[49m\u001b[43mdims_to_ints\u001b[49m\u001b[43m(\u001b[49m\u001b[43mend_pos\u001b[49m\u001b[43m,\u001b[49m\u001b[43m \u001b[49m\u001b[38;5;241;43m10\u001b[39;49m\u001b[43m)\u001b[49m\u001b[43m,\u001b[49m\u001b[43m \u001b[49m\u001b[43msearch_space\u001b[49m\u001b[43m,\u001b[49m\u001b[43m \u001b[49m\u001b[43mbs\u001b[49m\u001b[38;5;241;43m=\u001b[39;49m\u001b[43mbs\u001b[49m\u001b[43m)\u001b[49m\n\u001b[1;32m    357\u001b[0m waypoints \u001b[38;5;241m=\u001b[39m waypoints_from_path(A_star_path)\n\u001b[1;32m    359\u001b[0m \u001b[38;5;66;03m# Check if waypoints[0] -> waypoints[1] is going in the same direction as i_port_pos -> waypoints[0]\u001b[39;00m\n\u001b[1;32m    360\u001b[0m \u001b[38;5;66;03m# then replace waypoints[0] with the input position\u001b[39;00m\n\u001b[1;32m    361\u001b[0m \u001b[38;5;66;03m# otherwise add the input position to waypoints\u001b[39;00m\n",
      "File \u001b[0;32m~/Library/Mobile Documents/com~apple~CloudDocs/UofT/Year 4/Capstone (ECE472)/GDS Factory/gdsfactory/gdsfactory/routing/get_route_waypoints_astar.py:261\u001b[0m, in \u001b[0;36mA_star\u001b[0;34m(start_pos, end_pos, search_space, bs)\u001b[0m\n\u001b[1;32m    257\u001b[0m \u001b[38;5;66;03m# end_x, end_y = dims_to_ints(output_port.center,10)\u001b[39;00m\n\u001b[1;32m    258\u001b[0m \n\u001b[1;32m    259\u001b[0m \u001b[38;5;66;03m# make a Q\u001b[39;00m\n\u001b[1;32m    260\u001b[0m q \u001b[38;5;241m=\u001b[39m PriorityQueue()\n\u001b[0;32m--> 261\u001b[0m q\u001b[38;5;241m.\u001b[39minsert(\u001b[43msearch_space\u001b[49m\u001b[43m[\u001b[49m\u001b[43mstart_x\u001b[49m\u001b[43m]\u001b[49m\u001b[43m[\u001b[49m\u001b[43mstart_y\u001b[49m\u001b[43m]\u001b[49m, manhattan_heur(start_x, start_y, end_x, end_y))\n\u001b[1;32m    262\u001b[0m \u001b[38;5;66;03m# prev_node = None\u001b[39;00m\n\u001b[1;32m    263\u001b[0m \n\u001b[1;32m    264\u001b[0m \u001b[38;5;66;03m#while stack:\u001b[39;00m\n\u001b[1;32m    265\u001b[0m \u001b[38;5;28;01mwhile\u001b[39;00m \u001b[38;5;129;01mnot\u001b[39;00m q\u001b[38;5;241m.\u001b[39misEmpty():\n",
      "\u001b[0;31mIndexError\u001b[0m: list index out of range"
     ]
    }
   ],
   "source": [
    "ys_right = [0, 10, 20, 40, 50, 80]\n",
    "pitch = 127.0\n",
    "N = len(ys_right)\n",
    "ys_left = [(i - N / 2) * pitch for i in range(N)]\n",
    "layer = (1, 0)\n",
    "\n",
    "right_ports = [\n",
    "    gf.Port(f\"R_{i}\", center=(0, ys_right[i]), width=0.5, orientation=180, layer=layer)\n",
    "    for i in range(N)\n",
    "]\n",
    "left_ports = [\n",
    "    gf.Port(f\"L_{i}\", center=(-200, ys_left[i]), width=0.5, orientation=0, layer=layer)\n",
    "    for i in range(N)\n",
    "]\n",
    "\n",
    "# you can also mess up the port order and it will sort them by default\n",
    "left_ports.reverse()\n",
    "\n",
    "c = gf.Component(name=\"connect_bundle_v2\")\n",
    "routes = gf.routing.get_bundle(\n",
    "    left_ports,\n",
    "    right_ports,\n",
    "    sort_ports=True,\n",
    "    start_straight_length=100,\n",
    "    enforce_port_ordering=False,\n",
    ")\n",
    "for route in routes:\n",
    "    c.add(route.references)\n",
    "c.plot()"
   ]
  }
 ],
 "metadata": {
  "jupytext": {
   "cell_metadata_filter": "-all",
   "custom_cell_magics": "kql"
  },
  "kernelspec": {
   "display_name": "Python 3",
   "language": "python",
   "name": "python3"
  },
  "language_info": {
   "codemirror_mode": {
    "name": "ipython",
    "version": 3
   },
   "file_extension": ".py",
   "mimetype": "text/x-python",
   "name": "python",
   "nbconvert_exporter": "python",
   "pygments_lexer": "ipython3",
   "version": "3.10.4"
  }
 },
 "nbformat": 4,
 "nbformat_minor": 5
}
