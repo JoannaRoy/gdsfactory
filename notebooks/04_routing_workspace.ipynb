{
 "cells": [
  {
   "cell_type": "code",
   "execution_count": 3,
   "id": "0",
   "metadata": {},
   "outputs": [],
   "source": [
    "# this is for jo\n",
    "import os\n",
    "os.chdir('../')"
   ]
  },
  {
   "cell_type": "code",
<<<<<<< HEAD
   "execution_count": 4,
=======
   "execution_count": 3,
>>>>>>> parent of 427c4d3d5... trying to merge
   "id": "8c5c0bd1-0202-4e97-ab24-09b51dc90195",
   "metadata": {},
   "outputs": [
    {
     "name": "stdout",
     "output_type": "stream",
     "text": [
<<<<<<< HEAD
      "BEND DIST 1000.0\n",
=======
>>>>>>> parent of 427c4d3d5... trying to merge
      "waypoints [[ 15.5   0. ]\n",
      " [ 25.5   0. ]\n",
      " [ 25.5  34.9]\n",
      " [135.5  34.9]\n",
      " [135.5  81. ]\n",
      " [125.5  81. ]]\n"
     ]
    },
    {
     "data": {
      "text/html": [
       "<pre style=\"white-space:pre;overflow-x:auto;line-height:normal;font-family:Menlo,'DejaVu Sans Mono',consolas,'Courier New',monospace\"></pre>\n"
      ],
      "text/plain": []
     },
     "metadata": {},
     "output_type": "display_data"
    },
    {
     "data": {
      "image/png": "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",
      "text/plain": [
       "\u001b[1m<\u001b[0m\u001b[1;95mFigure\u001b[0m\u001b[39m size 80\u001b[0m\u001b[1;36m0x600\u001b[0m\u001b[39m with \u001b[0m\u001b[1;36m1\u001b[0m\u001b[39m Axes\u001b[0m\u001b[1m>\u001b[0m"
      ]
     },
     "metadata": {},
     "output_type": "display_data"
    }
   ],
   "source": [
    "# Test Routing\n",
    "from functools import partial\n",
    "import gdsfactory as gf\n",
    "from gdsfactory.cell import cell\n",
    "from gdsfactory.component import Component\n",
    "from gdsfactory.generic_tech import get_generic_pdk\n",
    "from gdsfactory.port import Port\n",
    "\n",
    "gf.config.rich_output()\n",
    "\n",
    "c = gf.Component(\"sample_problem\")\n",
    "mmi1 = c << gf.components.mmi1x2()\n",
    "mmi1.move((0, -0.625))\n",
    "mmi2 = c << gf.components.mmi1x2()\n",
    "mmi2.move((110, 80.375))\n",
    "\n",
    "rec = gf.Component(\"rectangle_polygon\")\n",
    "rec.add_polygon(\n",
    "       [(-10, -10, 10, 10), (-10, 10, 10, -10)], layer=(1, 0)\n",
    "   )\n",
    "x = c << rec\n",
    "# x.move((130, 20))\n",
    "x.move((20, 50))\n",
    "# x.move((130, 50))\n",
    "# x.move((130, 5))\n",
    "\n",
    "# rec2 = gf.Component(\"rectangle_polygon\")\n",
    "# rec2.add_polygon(\n",
    "#        [(-5, -5, 5, 5), (-5, 5, 5, -5)], layer=(1, 0)\n",
    "#    )\n",
    "# y = c << rec2\n",
    "# y.move((115, 30))\n",
    "\n",
    "# route = gf.routing.get_route(mmi1.ports[\"o2\"], mmi2.ports[\"o2\"], component=c, component_margin=5)\n",
    "route = gf.routing.get_route(mmi1.ports[\"o2\"], mmi2.ports[\"o2\"], component=c, component_margin=5)\n",
    "c.add(route.references)\n",
    "c.plot()"
   ]
  },
  {
   "cell_type": "code",
   "execution_count": null,
   "id": "2",
   "metadata": {},
   "outputs": [],
   "source": [
    "from functools import partial\n",
    "import gdsfactory as gf\n",
    "from gdsfactory.cell import cell\n",
    "from gdsfactory.component import Component\n",
    "from gdsfactory.generic_tech import get_generic_pdk\n",
    "from gdsfactory.port import Port\n",
    "\n",
    "gf.config.rich_output()\n",
    "\n",
    "c = gf.Component(\"sample_connect\")\n",
    "mmi1 = c << gf.components.mmi1x2()\n",
    "mmi1.move((0, -0.625))\n",
    "mmi2 = c << gf.components.mmi1x2()\n",
    "mmi2.move((100, 50))\n",
    "\n",
    "route = gf.routing.get_route(mmi1.ports[\"o2\"], mmi2.ports[\"o1\"], c)\n",
    "c.add(route.references)\n",
    "# c.plot()"
   ]
  },
  {
   "cell_type": "code",
   "execution_count": null,
   "id": "3",
   "metadata": {},
   "outputs": [],
   "source": [
    "c = gf.Component(\"workspace\")\n",
    "mmi1 = c << gf.components.mmi1x2()\n",
    "mmi2 = c << gf.components.mmi1x2()\n",
    "mmi2.move((120, 100))\n",
    "\n",
    "x = c << gf.components.rectangle(size=[20, 20], layer=(1, 0))\n",
    "# rec = gf.Component(\"rectangle_polygon\")\n",
    "# rec.add_polygon(\n",
    "#         [(-10, -10, 10, 10), (-10, 10, 10, -10)], layer=(1, 0)\n",
    "#     )\n",
    "# x = c << rec\n",
    "x.move((130, 20))\n",
    "\n",
    "rec2 = gf.Component(\"rectangle_polygon_2\")\n",
    "rec2.add_polygon(\n",
    "        [(-10, -10, 10, 10), (-10, 10, 10, -10)], layer=(1, 0)\n",
    "    )\n",
    "y = c << rec2\n",
    "y.move((200, 20))\n",
    "\n",
    "# z = c << gf.components.cross(length=20)\n",
    "# z.move((150, 20))\n",
    "\n",
    "route = gf.routing.get_route(mmi1.ports[\"o2\"], mmi2.ports[\"o2\"], c, component_margin=0.3)\n",
    "# route2 = gf.routing.get_route(mmi1.ports[\"o2\"], mmi2.ports[\"o2\"], c)\n",
    "c.add(route.references)\n",
    "c.plot()"
   ]
  },
  {
   "cell_type": "code",
   "execution_count": null,
   "id": "4",
   "metadata": {},
   "outputs": [],
   "source": [
    "# PLAYGROUND\n",
    "obstacle_list = list(set(c.references) - {mmi1, mmi2})\n",
    "print(obstacle_list)\n",
    "\n",
    "obstacles_w_origin = [[np.array(obstacle.origin), obstacle] for obstacle in obstacle_list]\n",
    "restricted_area = []\n",
    "\n",
    "while len(obstacles_w_origin) > 0:\n",
    "    origin, obstacle = obstacles_w_origin.pop(0)\n",
    "    if len(obstacle.parent.polygons) != 0:\n",
    "        for polygon in obstacle.parent.polygons:\n",
    "            points = polygon.points\n",
    "            points[points > 0] += 5\n",
    "            points[points < 0] -= 5\n",
    "            restricted_area.append(points + origin)\n",
    "    if len(obstacle.parent.references) != 0:\n",
    "        for reference in obstacle.parent.references:\n",
    "            obstacles_w_origin.append([np.array(reference.origin) + origin, reference])\n",
    "print(restricted_area)\n",
    "    \n",
    "restricted_area = []\n",
    "for obstacle in obstacle_list:\n",
    "    print(obstacle.origin)\n",
    "    print(obstacle.parent.references)\n",
    "    print(obstacle.parent.polygons)\n",
    "\n",
    "\n",
    "    origin = np.array(obstacle.origin)\n",
    "    for polygon in obstacle.parent.polygons:\n",
    "        restricted_area.append(polygon.points + origin)\n",
    "print(restricted_area)"
   ]
  },
  {
   "cell_type": "code",
   "execution_count": null,
   "id": "5",
   "metadata": {},
   "outputs": [],
   "source": [
    "c = gf.Component(\"sample_no_routes\")\n",
    "mmi1 = c << gf.components.mmi1x2()\n",
    "mmi2 = c << gf.components.mmi1x2()\n",
    "mmi2.move((100, 50))\n",
    "c.plot()"
   ]
  },
  {
   "cell_type": "markdown",
   "id": "6",
   "metadata": {},
   "source": [
    "## get_bundle\n",
    "\n",
    "To route groups of ports avoiding waveguide collisions, you should use `get_bundle` instead of `get_route`.\n",
    "\n",
    "`get_bundle` uses a river/bundle/bus router.\n",
    "\n",
    "At the moment it works only when each group of ports have the same orientation.\n"
   ]
  },
  {
   "cell_type": "code",
   "execution_count": null,
   "id": "7",
   "metadata": {},
   "outputs": [],
   "source": [
    "ys_right = [0, 10, 20, 40, 50, 80]\n",
    "pitch = 127.0\n",
    "N = len(ys_right)\n",
    "ys_left = [(i - N / 2) * pitch for i in range(N)]\n",
    "layer = (1, 0)\n",
    "\n",
    "right_ports = [\n",
    "    gf.Port(f\"R_{i}\", center=(0, ys_right[i]), width=0.5, orientation=180, layer=layer)\n",
    "    for i in range(N)\n",
    "]\n",
    "left_ports = [\n",
    "    gf.Port(f\"L_{i}\", center=(-200, ys_left[i]), width=0.5, orientation=0, layer=layer)\n",
    "    for i in range(N)\n",
    "]\n",
    "\n",
    "# you can also mess up the port order and it will sort them by default\n",
    "left_ports.reverse()\n",
    "\n",
    "c = gf.Component(name=\"connect_bundle_v2\")\n",
    "routes = gf.routing.get_bundle(\n",
    "    left_ports,\n",
    "    right_ports,\n",
    "    sort_ports=True,\n",
    "    start_straight_length=100,\n",
    "    enforce_port_ordering=False,\n",
    ")\n",
    "for route in routes:\n",
    "    c.add(route.references)\n",
    "c.plot()"
   ]
  }
 ],
 "metadata": {
  "jupytext": {
   "cell_metadata_filter": "-all",
   "custom_cell_magics": "kql"
  },
  "kernelspec": {
   "display_name": "Python 3",
   "language": "python",
   "name": "python3"
  },
  "language_info": {
   "codemirror_mode": {
    "name": "ipython",
    "version": 3
   },
   "file_extension": ".py",
   "mimetype": "text/x-python",
   "name": "python",
   "nbconvert_exporter": "python",
   "pygments_lexer": "ipython3",
   "version": "3.10.4"
  }
 },
 "nbformat": 4,
 "nbformat_minor": 5
}
