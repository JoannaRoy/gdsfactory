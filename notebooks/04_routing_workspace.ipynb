{
 "cells": [
  {
   "cell_type": "code",
   "execution_count": 3,
   "id": "0",
   "metadata": {},
   "outputs": [],
   "source": [
    "# this is for jo\n",
    "import os\n",
    "os.chdir('../')"
   ]
  },
  {
   "cell_type": "code",
   "execution_count": 4,
   "id": "8c5c0bd1-0202-4e97-ab24-09b51dc90195",
   "metadata": {},
   "outputs": [
    {
     "name": "stdout",
     "output_type": "stream",
     "text": [
      "BEND DIST 1000.0\n",
      "waypoints [[ 15.5   0. ]\n",
      " [135.5   0. ]\n",
      " [135.5  81. ]\n",
      " [125.5  81. ]]\n"
     ]
    },
    {
     "data": {
      "text/html": [
       "<pre style=\"white-space:pre;overflow-x:auto;line-height:normal;font-family:Menlo,'DejaVu Sans Mono',consolas,'Courier New',monospace\"></pre>\n"
      ],
      "text/plain": []
     },
     "metadata": {},
     "output_type": "display_data"
    },
    {
     "data": {
      "image/png": "[encoded data removed]",
      "text/plain": [
       "\u001b[1m<\u001b[0m\u001b[1;95mFigure\u001b[0m\u001b[39m size 80\u001b[0m\u001b[1;36m0x600\u001b[0m\u001b[39m with \u001b[0m\u001b[1;36m1\u001b[0m\u001b[39m Axes\u001b[0m\u001b[1m>\u001b[0m"
      ]
     },
     "metadata": {},
     "output_type": "display_data"
    }
   ],
   "source": [
    "# Test Routing\n",
    "from functools import partial\n",
    "import gdsfactory as gf\n",
    "from gdsfactory.cell import cell\n",
    "from gdsfactory.component import Component\n",
    "from gdsfactory.generic_tech import get_generic_pdk\n",
    "from gdsfactory.port import Port\n",
    "\n",
    "gf.config.rich_output()\n",
    "\n",
    "c = gf.Component(\"sample_problem\")\n",
    "mmi1 = c << gf.components.mmi1x2()\n",
    "mmi1.move((0, -0.625))\n",
    "mmi2 = c << gf.components.mmi1x2()\n",
    "mmi2.move((110, 80.375))\n",
    "\n",
    "rec = gf.Component(\"rectangle_polygon\")\n",
    "rec.add_polygon(\n",
    "       [(-10, -10, 10, 10), (-10, 10, 10, -10)], layer=(1, 0)\n",
    "   )\n",
    "x = c << rec\n",
    "# x.move((130, 20))\n",
    "x.move((50, 85))\n",
    "# x.move((130, 50))\n",
    "# x.move((130, 5))\n",
    "\n",
    "# rec2 = gf.Component(\"rectangle_polygon\")\n",
    "# rec2.add_polygon(\n",
    "#        [(-5, -5, 5, 5), (-5, 5, 5, -5)], layer=(1, 0)\n",
    "#    )\n",
    "# y = c << rec2\n",
    "# y.move((115, 30))\n",
    "\n",
    "# route = gf.routing.get_route(mmi1.ports[\"o2\"], mmi2.ports[\"o2\"], component=c, component_margin=5)\n",
    "route = gf.routing.get_route(mmi1.ports[\"o2\"], mmi2.ports[\"o2\"], component=c, component_margin=5)\n",
    "c.add(route.references)\n",
    "c.plot()"
   ]
  },
  {
   "cell_type": "code",
   "execution_count": null,
   "id": "2",
   "metadata": {},
   "outputs": [],
   "source": [
    "from functools import partial\n",
    "import gdsfactory as gf\n",
    "from gdsfactory.cell import cell\n",
    "from gdsfactory.component import Component\n",
    "from gdsfactory.generic_tech import get_generic_pdk\n",
    "from gdsfactory.port import Port\n",
    "\n",
    "gf.config.rich_output()\n",
    "\n",
    "c = gf.Component(\"sample_connect\")\n",
    "mmi1 = c << gf.components.mmi1x2()\n",
    "mmi1.move((0, -0.625))\n",
    "mmi2 = c << gf.components.mmi1x2()\n",
    "mmi2.move((100, 50))\n",
    "\n",
    "route = gf.routing.get_route(mmi1.ports[\"o2\"], mmi2.ports[\"o1\"], c)\n",
    "c.add(route.references)\n",
    "# c.plot()"
   ]
  },
  {
   "cell_type": "code",
   "execution_count": null,
   "id": "3",
   "metadata": {},
   "outputs": [],
   "source": [
    "c = gf.Component(\"workspace\")\n",
    "mmi1 = c << gf.components.mmi1x2()\n",
    "mmi2 = c << gf.components.mmi1x2()\n",
    "mmi2.move((120, 100))\n",
    "\n",
    "x = c << gf.components.rectangle(size=[20, 20], layer=(1, 0))\n",
    "# rec = gf.Component(\"rectangle_polygon\")\n",
    "# rec.add_polygon(\n",
    "#         [(-10, -10, 10, 10), (-10, 10, 10, -10)], layer=(1, 0)\n",
    "#     )\n",
    "# x = c << rec\n",
    "x.move((130, 20))\n",
    "\n",
    "rec2 = gf.Component(\"rectangle_polygon_2\")\n",
    "rec2.add_polygon(\n",
    "        [(-10, -10, 10, 10), (-10, 10, 10, -10)], layer=(1, 0)\n",
    "    )\n",
    "y = c << rec2\n",
    "y.move((200, 20))\n",
    "\n",
    "# z = c << gf.components.cross(length=20)\n",
    "# z.move((150, 20))\n",
    "\n",
    "route = gf.routing.get_route(mmi1.ports[\"o2\"], mmi2.ports[\"o2\"], c, component_margin=0.3)\n",
    "# route2 = gf.routing.get_route(mmi1.ports[\"o2\"], mmi2.ports[\"o2\"], c)\n",
    "c.add(route.references)\n",
    "c.plot()"
   ]
  },
  {
   "cell_type": "code",
   "execution_count": null,
   "id": "4",
   "metadata": {},
   "outputs": [],
   "source": [
    "# PLAYGROUND\n",
    "obstacle_list = list(set(c.references) - {mmi1, mmi2})\n",
    "print(obstacle_list)\n",
    "\n",
    "obstacles_w_origin = [[np.array(obstacle.origin), obstacle] for obstacle in obstacle_list]\n",
    "restricted_area = []\n",
    "\n",
    "while len(obstacles_w_origin) > 0:\n",
    "    origin, obstacle = obstacles_w_origin.pop(0)\n",
    "    if len(obstacle.parent.polygons) != 0:\n",
    "        for polygon in obstacle.parent.polygons:\n",
    "            points = polygon.points\n",
    "            points[points > 0] += 5\n",
    "            points[points < 0] -= 5\n",
    "            restricted_area.append(points + origin)\n",
    "    if len(obstacle.parent.references) != 0:\n",
    "        for reference in obstacle.parent.references:\n",
    "            obstacles_w_origin.append([np.array(reference.origin) + origin, reference])\n",
    "print(restricted_area)\n",
    "    \n",
    "restricted_area = []\n",
    "for obstacle in obstacle_list:\n",
    "    print(obstacle.origin)\n",
    "    print(obstacle.parent.references)\n",
    "    print(obstacle.parent.polygons)\n",
    "\n",
    "\n",
    "    origin = np.array(obstacle.origin)\n",
    "    for polygon in obstacle.parent.polygons:\n",
    "        restricted_area.append(polygon.points + origin)\n",
    "print(restricted_area)"
   ]
  },
  {
   "cell_type": "code",
   "execution_count": null,
   "id": "5",
   "metadata": {},
   "outputs": [],
   "source": [
    "c = gf.Component(\"sample_no_routes\")\n",
    "mmi1 = c << gf.components.mmi1x2()\n",
    "mmi2 = c << gf.components.mmi1x2()\n",
    "mmi2.move((100, 50))\n",
    "c.plot()"
   ]
  },
  {
   "cell_type": "markdown",
   "id": "6",
   "metadata": {},
   "source": [
    "## get_bundle\n",
    "\n",
    "To route groups of ports avoiding waveguide collisions, you should use `get_bundle` instead of `get_route`.\n",
    "\n",
    "`get_bundle` uses a river/bundle/bus router.\n",
    "\n",
    "At the moment it works only when each group of ports have the same orientation.\n"
   ]
  },
  {
   "cell_type": "code",
   "execution_count": null,
   "id": "7",
   "metadata": {},
   "outputs": [],
   "source": [
    "ys_right = [0, 10, 20, 40, 50, 80]\n",
    "pitch = 127.0\n",
    "N = len(ys_right)\n",
    "ys_left = [(i - N / 2) * pitch for i in range(N)]\n",
    "layer = (1, 0)\n",
    "\n",
    "right_ports = [\n",
    "    gf.Port(f\"R_{i}\", center=(0, ys_right[i]), width=0.5, orientation=180, layer=layer)\n",
    "    for i in range(N)\n",
    "]\n",
    "left_ports = [\n",
    "    gf.Port(f\"L_{i}\", center=(-200, ys_left[i]), width=0.5, orientation=0, layer=layer)\n",
    "    for i in range(N)\n",
    "]\n",
    "\n",
    "# you can also mess up the port order and it will sort them by default\n",
    "left_ports.reverse()\n",
    "\n",
    "c = gf.Component(name=\"connect_bundle_v2\")\n",
    "routes = gf.routing.get_bundle(\n",
    "    left_ports,\n",
    "    right_ports,\n",
    "    sort_ports=True,\n",
    "    start_straight_length=100,\n",
    "    enforce_port_ordering=False,\n",
    ")\n",
    "for route in routes:\n",
    "    c.add(route.references)\n",
    "c.plot()"
   ]
  }
 ],
 "metadata": {
  "jupytext": {
   "cell_metadata_filter": "-all",
   "custom_cell_magics": "kql"
  },
  "kernelspec": {
   "display_name": "Python 3",
   "language": "python",
   "name": "python3"
  },
  "language_info": {
   "codemirror_mode": {
    "name": "ipython",
    "version": 3
   },
   "file_extension": ".py",
   "mimetype": "text/x-python",
   "name": "python",
   "nbconvert_exporter": "python",
   "pygments_lexer": "ipython3",
   "version": "3.10.4"
  }
 },
 "nbformat": 4,
 "nbformat_minor": 5
}
