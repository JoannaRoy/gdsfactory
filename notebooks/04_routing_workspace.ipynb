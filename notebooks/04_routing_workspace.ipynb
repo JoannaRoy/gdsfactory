{
 "cells": [
  {
   "cell_type": "code",
   "execution_count": null,
   "id": "1e888e35",
   "metadata": {},
   "outputs": [],
   "source": [
    "# this is for jo\n",
    "import os\n",
    "os.chdir('../')"
   ]
  },
  {
   "cell_type": "code",
   "execution_count": 7,
   "id": "8c5c0bd1-0202-4e97-ab24-09b51dc90195",
   "metadata": {},
   "outputs": [
    {
     "name": "stdout",
     "output_type": "stream",
     "text": [
      "BEND DIST 100.0\n",
      "waypoints [[ 15.5   0. ]\n",
      " [135.5   0. ]\n",
      " [135.5  81. ]\n",
      " [125.5  81. ]]\n"
     ]
    },
    {
     "data": {
      "text/html": [
       "<pre style=\"white-space:pre;overflow-x:auto;line-height:normal;font-family:Menlo,'DejaVu Sans Mono',consolas,'Courier New',monospace\"></pre>\n"
      ],
      "text/plain": []
     },
     "metadata": {},
     "output_type": "display_data"
    },
    {
     "data": {
      "image/png": "[encoded data removed]",
      "text/plain": [
       "\u001b[1m<\u001b[0m\u001b[1;95mFigure\u001b[0m\u001b[39m size 80\u001b[0m\u001b[1;36m0x600\u001b[0m\u001b[39m with \u001b[0m\u001b[1;36m1\u001b[0m\u001b[39m Axes\u001b[0m\u001b[1m>\u001b[0m"
      ]
     },
     "metadata": {},
     "output_type": "display_data"
    }
   ],
   "source": [
    "# Test Routing\n",
    "from functools import partial\n",
    "import gdsfactory as gf\n",
    "from gdsfactory.cell import cell\n",
    "from gdsfactory.component import Component\n",
    "from gdsfactory.generic_tech import get_generic_pdk\n",
    "from gdsfactory.port import Port\n",
    "\n",
    "gf.config.rich_output()\n",
    "\n",
    "c = gf.Component(\"sample_problem\")\n",
    "mmi1 = c << gf.components.mmi1x2()\n",
    "mmi1.move((0, -0.625))\n",
    "mmi2 = c << gf.components.mmi1x2()\n",
    "mmi2.move((110, 80.375))\n",
    "\n",
    "# rec = gf.Component(\"rectangle_polygon\")\n",
    "# rec.add_polygon(\n",
    "#        [(-10, -10, 10, 10), (-10, 10, 10, -10)], layer=(1, 0)\n",
    "#    )\n",
    "# x = c << rec\n",
    "# x.move((110, 10))\n",
    "# #x.move((100, 50))\n",
    "\n",
    "# rec2 = gf.Component(\"rectangle_polygon\")\n",
    "# rec2.add_polygon(\n",
    "#        [(-10, -10, 10, 10), (-10, 10, 10, -10)], layer=(1, 0)\n",
    "#    )\n",
    "# x = c << rec2\n",
    "# # x.move((130, 20))\n",
    "# x.move((50, 80))\n",
    "\n",
    "# rec3 = gf.Component(\"rectangle_polygon\")\n",
    "# rec3.add_polygon(\n",
    "#        [(-10, -10, 10, 10), (-10, 10, 10, -10)], layer=(1, 0)\n",
    "#    )\n",
    "# x = c << rec3\n",
    "# # x.move((130, 20))\n",
    "# x.move((80, 40))\n",
    "# # x.move((130, 50))\n",
    "# # x.move((130, 5))\n",
    "\n",
    "# rec2 = gf.Component(\"rectangle_polygon\")\n",
    "# rec2.add_polygon(\n",
    "#        [(-5, -5, 5, 5), (-5, 5, 5, -5)], layer=(1, 0)\n",
    "#    )\n",
    "# y = c << rec2\n",
    "# y.move((115, 30))\n",
    "\n",
    "# route = gf.routing.get_route(mmi1.ports[\"o2\"], mmi2.ports[\"o2\"], component=c, component_margin=5)\n",
    "route = gf.routing.get_route(mmi1.ports[\"o2\"], mmi2.ports[\"o2\"], component=c, component_margin=5)\n",
    "c.add(route.references)\n",
    "c.plot()"
   ]
  },
  {
   "cell_type": "code",
   "execution_count": 1,
   "id": "ef061ab3",
   "metadata": {},
   "outputs": [
    {
     "name": "stdout",
     "output_type": "stream",
     "text": [
      "\u001b[32m2024-04-24 22:42:58.719\u001b[0m | \u001b[1mINFO    \u001b[0m | \u001b[36mgdsfactory.pdk\u001b[0m:\u001b[36mactivate\u001b[0m:\u001b[36m309\u001b[0m - \u001b[1m'generic' PDK is now active\u001b[0m\n",
      "restricted area start\n",
      "[array([[ 95.   ,  85.625],\n",
      "       [110.   ,  85.875],\n",
      "       [110.   ,  74.875],\n",
      "       [ 95.   ,  75.125]]), array([[130.5 ,  85.75],\n",
      "       [120.5 ,  85.5 ],\n",
      "       [120.5 ,  86.5 ],\n",
      "       [130.5 ,  86.25]]), array([[130.5 ,  74.5 ],\n",
      "       [120.5 ,  74.25],\n",
      "       [120.5 ,  75.25],\n",
      "       [130.5 ,  75.  ]]), array([[110.   ,  74.125],\n",
      "       [120.5  ,  74.125],\n",
      "       [120.5  ,  86.625],\n",
      "       [110.   ,  86.625]]), array([[ 5.  , 15.25],\n",
      "       [20.  , 15.5 ],\n",
      "       [20.  ,  4.5 ],\n",
      "       [ 5.  ,  4.75]]), array([[40.5  , 15.375],\n",
      "       [30.5  , 15.125],\n",
      "       [30.5  , 16.125],\n",
      "       [40.5  , 15.875]]), array([[40.5  ,  4.125],\n",
      "       [30.5  ,  3.875],\n",
      "       [30.5  ,  4.875],\n",
      "       [40.5  ,  4.625]]), array([[20.  ,  3.75],\n",
      "       [30.5 ,  3.75],\n",
      "       [30.5 , 16.25],\n",
      "       [20.  , 16.25]])]\n",
      "restricted area end\n",
      "generate_route_astar_points [(950, 856), (950, 857), (950, 858), (1100, 741), (50, 152), (50, 153), (50, 154), (50, 155), (200, 37)]\n",
      "BEND DIST 100.0\n",
      "waypoints [[ 10.   10. ]\n",
      " [135.5  10. ]\n",
      " [135.5  81. ]\n",
      " [125.5  81. ]]\n"
     ]
    },
    {
     "data": {
      "text/html": [
       "<pre style=\"white-space:pre;overflow-x:auto;line-height:normal;font-family:Menlo,'DejaVu Sans Mono',consolas,'Courier New',monospace\"></pre>\n"
      ],
      "text/plain": []
     },
     "metadata": {},
     "output_type": "display_data"
    },
    {
     "data": {
      "image/png": "[encoded data removed]",
      "text/plain": [
       "\u001b[1m<\u001b[0m\u001b[1;95mFigure\u001b[0m\u001b[39m size 80\u001b[0m\u001b[1;36m0x600\u001b[0m\u001b[39m with \u001b[0m\u001b[1;36m1\u001b[0m\u001b[39m Axes\u001b[0m\u001b[1m>\u001b[0m"
      ]
     },
     "metadata": {},
     "output_type": "display_data"
    }
   ],
   "source": [
    "# Test Routing\n",
    "from functools import partial\n",
    "import gdsfactory as gf\n",
    "from gdsfactory.cell import cell\n",
    "from gdsfactory.component import Component\n",
    "from gdsfactory.generic_tech import get_generic_pdk\n",
    "from gdsfactory.port import Port\n",
    "\n",
    "gf.config.rich_output()\n",
    "\n",
    "c = gf.Component(\"sample_problem\")\n",
    "mmi1 = c << gf.components.mmi1x2()\n",
    "#mmi1.move((0, -0.625))\n",
    "mmi1.move((20, 10))\n",
    "mmi2 = c << gf.components.mmi1x2()\n",
    "mmi2.move((110, 80.375))\n",
    "\n",
    "# rec = gf.Component(\"rectangle_polygon\")\n",
    "# rec.add_polygon(\n",
    "#        [(-10, -10, 10, 10), (-10, 10, 10, -10)], layer=(1, 0)\n",
    "#    )\n",
    "# x = c << rec\n",
    "# x.move((110, 10))\n",
    "# #x.move((100, 50))\n",
    "\n",
    "# rec2 = gf.Component(\"rectangle_polygon\")\n",
    "# rec2.add_polygon(\n",
    "#        [(-10, -10, 10, 10), (-10, 10, 10, -10)], layer=(1, 0)\n",
    "#    )\n",
    "# x = c << rec2\n",
    "# # x.move((130, 20))\n",
    "# x.move((50, 80))\n",
    "\n",
    "# rec3 = gf.Component(\"rectangle_polygon\")\n",
    "# rec3.add_polygon(\n",
    "#        [(-10, -10, 10, 10), (-10, 10, 10, -10)], layer=(1, 0)\n",
    "#    )\n",
    "# x = c << rec3\n",
    "# # x.move((130, 20))\n",
    "# x.move((80, 40))\n",
    "# # x.move((130, 50))\n",
    "# # x.move((130, 5))\n",
    "\n",
    "# rec2 = gf.Component(\"rectangle_polygon\")\n",
    "# rec2.add_polygon(\n",
    "#        [(-5, -5, 5, 5), (-5, 5, 5, -5)], layer=(1, 0)\n",
    "#    )\n",
    "# y = c << rec2\n",
    "# y.move((115, 30))\n",
    "\n",
    "# route = gf.routing.get_route(mmi1.ports[\"o2\"], mmi2.ports[\"o2\"], component=c, component_margin=5)\n",
    "route = gf.routing.get_route(mmi1.ports[\"o1\"], mmi2.ports[\"o2\"], component=c, component_margin=5)\n",
    "c.add(route.references)\n",
    "c.plot()"
   ]
  },
  {
   "cell_type": "markdown",
   "id": "14",
   "metadata": {},
   "source": [
    "## get_bundle\n",
    "\n",
    "To route groups of ports avoiding waveguide collisions, you should use `get_bundle` instead of `get_route`.\n",
    "\n",
    "`get_bundle` uses a river/bundle/bus router.\n",
    "\n",
    "At the moment it works only when each group of ports have the same orientation.\n"
   ]
  },
  {
   "cell_type": "code",
   "execution_count": 1,
   "id": "15",
   "metadata": {},
   "outputs": [
    {
     "ename": "NameError",
     "evalue": "name 'gf' is not defined",
     "output_type": "error",
     "traceback": [
      "\u001b[1;31m---------------------------------------------------------------------------\u001b[0m",
      "\u001b[1;31mNameError\u001b[0m                                 Traceback (most recent call last)",
      "Cell \u001b[1;32mIn[1], line 7\u001b[0m\n\u001b[0;32m      4\u001b[0m ys_left \u001b[38;5;241m=\u001b[39m [(i \u001b[38;5;241m-\u001b[39m N \u001b[38;5;241m/\u001b[39m \u001b[38;5;241m2\u001b[39m) \u001b[38;5;241m*\u001b[39m pitch \u001b[38;5;28;01mfor\u001b[39;00m i \u001b[38;5;129;01min\u001b[39;00m \u001b[38;5;28mrange\u001b[39m(N)]\n\u001b[0;32m      5\u001b[0m layer \u001b[38;5;241m=\u001b[39m (\u001b[38;5;241m1\u001b[39m, \u001b[38;5;241m0\u001b[39m)\n\u001b[1;32m----> 7\u001b[0m right_ports \u001b[38;5;241m=\u001b[39m [\n\u001b[0;32m      8\u001b[0m     gf\u001b[38;5;241m.\u001b[39mPort(\u001b[38;5;124mf\u001b[39m\u001b[38;5;124m\"\u001b[39m\u001b[38;5;124mR_\u001b[39m\u001b[38;5;132;01m{\u001b[39;00mi\u001b[38;5;132;01m}\u001b[39;00m\u001b[38;5;124m\"\u001b[39m, center\u001b[38;5;241m=\u001b[39m(\u001b[38;5;241m0\u001b[39m, ys_right[i]), width\u001b[38;5;241m=\u001b[39m\u001b[38;5;241m0.5\u001b[39m, orientation\u001b[38;5;241m=\u001b[39m\u001b[38;5;241m180\u001b[39m, layer\u001b[38;5;241m=\u001b[39mlayer)\n\u001b[0;32m      9\u001b[0m     \u001b[38;5;28;01mfor\u001b[39;00m i \u001b[38;5;129;01min\u001b[39;00m \u001b[38;5;28mrange\u001b[39m(N)\n\u001b[0;32m     10\u001b[0m ]\n\u001b[0;32m     11\u001b[0m left_ports \u001b[38;5;241m=\u001b[39m [\n\u001b[0;32m     12\u001b[0m     gf\u001b[38;5;241m.\u001b[39mPort(\u001b[38;5;124mf\u001b[39m\u001b[38;5;124m\"\u001b[39m\u001b[38;5;124mL_\u001b[39m\u001b[38;5;132;01m{\u001b[39;00mi\u001b[38;5;132;01m}\u001b[39;00m\u001b[38;5;124m\"\u001b[39m, center\u001b[38;5;241m=\u001b[39m(\u001b[38;5;241m-\u001b[39m\u001b[38;5;241m200\u001b[39m, ys_left[i]), width\u001b[38;5;241m=\u001b[39m\u001b[38;5;241m0.5\u001b[39m, orientation\u001b[38;5;241m=\u001b[39m\u001b[38;5;241m0\u001b[39m, layer\u001b[38;5;241m=\u001b[39mlayer)\n\u001b[0;32m     13\u001b[0m     \u001b[38;5;28;01mfor\u001b[39;00m i \u001b[38;5;129;01min\u001b[39;00m \u001b[38;5;28mrange\u001b[39m(N)\n\u001b[0;32m     14\u001b[0m ]\n\u001b[0;32m     16\u001b[0m \u001b[38;5;66;03m# you can also mess up the port order and it will sort them by default\u001b[39;00m\n",
      "Cell \u001b[1;32mIn[1], line 8\u001b[0m, in \u001b[0;36m<listcomp>\u001b[1;34m(.0)\u001b[0m\n\u001b[0;32m      4\u001b[0m ys_left \u001b[38;5;241m=\u001b[39m [(i \u001b[38;5;241m-\u001b[39m N \u001b[38;5;241m/\u001b[39m \u001b[38;5;241m2\u001b[39m) \u001b[38;5;241m*\u001b[39m pitch \u001b[38;5;28;01mfor\u001b[39;00m i \u001b[38;5;129;01min\u001b[39;00m \u001b[38;5;28mrange\u001b[39m(N)]\n\u001b[0;32m      5\u001b[0m layer \u001b[38;5;241m=\u001b[39m (\u001b[38;5;241m1\u001b[39m, \u001b[38;5;241m0\u001b[39m)\n\u001b[0;32m      7\u001b[0m right_ports \u001b[38;5;241m=\u001b[39m [\n\u001b[1;32m----> 8\u001b[0m     \u001b[43mgf\u001b[49m\u001b[38;5;241m.\u001b[39mPort(\u001b[38;5;124mf\u001b[39m\u001b[38;5;124m\"\u001b[39m\u001b[38;5;124mR_\u001b[39m\u001b[38;5;132;01m{\u001b[39;00mi\u001b[38;5;132;01m}\u001b[39;00m\u001b[38;5;124m\"\u001b[39m, center\u001b[38;5;241m=\u001b[39m(\u001b[38;5;241m0\u001b[39m, ys_right[i]), width\u001b[38;5;241m=\u001b[39m\u001b[38;5;241m0.5\u001b[39m, orientation\u001b[38;5;241m=\u001b[39m\u001b[38;5;241m180\u001b[39m, layer\u001b[38;5;241m=\u001b[39mlayer)\n\u001b[0;32m      9\u001b[0m     \u001b[38;5;28;01mfor\u001b[39;00m i \u001b[38;5;129;01min\u001b[39;00m \u001b[38;5;28mrange\u001b[39m(N)\n\u001b[0;32m     10\u001b[0m ]\n\u001b[0;32m     11\u001b[0m left_ports \u001b[38;5;241m=\u001b[39m [\n\u001b[0;32m     12\u001b[0m     gf\u001b[38;5;241m.\u001b[39mPort(\u001b[38;5;124mf\u001b[39m\u001b[38;5;124m\"\u001b[39m\u001b[38;5;124mL_\u001b[39m\u001b[38;5;132;01m{\u001b[39;00mi\u001b[38;5;132;01m}\u001b[39;00m\u001b[38;5;124m\"\u001b[39m, center\u001b[38;5;241m=\u001b[39m(\u001b[38;5;241m-\u001b[39m\u001b[38;5;241m200\u001b[39m, ys_left[i]), width\u001b[38;5;241m=\u001b[39m\u001b[38;5;241m0.5\u001b[39m, orientation\u001b[38;5;241m=\u001b[39m\u001b[38;5;241m0\u001b[39m, layer\u001b[38;5;241m=\u001b[39mlayer)\n\u001b[0;32m     13\u001b[0m     \u001b[38;5;28;01mfor\u001b[39;00m i \u001b[38;5;129;01min\u001b[39;00m \u001b[38;5;28mrange\u001b[39m(N)\n\u001b[0;32m     14\u001b[0m ]\n\u001b[0;32m     16\u001b[0m \u001b[38;5;66;03m# you can also mess up the port order and it will sort them by default\u001b[39;00m\n",
      "\u001b[1;31mNameError\u001b[0m: name 'gf' is not defined"
     ]
    }
   ],
   "source": [
    "ys_right = [0, 10, 20, 40, 50, 80]\n",
    "pitch = 127.0\n",
    "N = len(ys_right)\n",
    "ys_left = [(i - N / 2) * pitch for i in range(N)]\n",
    "layer = (1, 0)\n",
    "\n",
    "right_ports = [\n",
    "    gf.Port(f\"R_{i}\", center=(0, ys_right[i]), width=0.5, orientation=180, layer=layer)\n",
    "    for i in range(N)\n",
    "]\n",
    "left_ports = [\n",
    "    gf.Port(f\"L_{i}\", center=(-200, ys_left[i]), width=0.5, orientation=0, layer=layer)\n",
    "    for i in range(N)\n",
    "]\n",
    "\n",
    "# you can also mess up the port order and it will sort them by default\n",
    "left_ports.reverse()\n",
    "\n",
    "c = gf.Component(name=\"connect_bundle_v2\")\n",
    "routes = gf.routing.get_bundle(\n",
    "    left_ports,\n",
    "    right_ports,\n",
    "    sort_ports=True,\n",
    "    start_straight_length=100,\n",
    "    enforce_port_ordering=False,\n",
    ")\n",
    "for route in routes:\n",
    "    c.add(route.references)\n",
    "c.plot()"
   ]
  }
 ],
 "metadata": {
  "jupytext": {
   "cell_metadata_filter": "-all",
   "custom_cell_magics": "kql"
  },
  "kernelspec": {
   "display_name": "Python 3",
   "language": "python",
   "name": "python3"
  },
  "language_info": {
   "codemirror_mode": {
    "name": "ipython",
    "version": 3
   },
   "file_extension": ".py",
   "mimetype": "text/x-python",
   "name": "python",
   "nbconvert_exporter": "python",
   "pygments_lexer": "ipython3",
   "version": "3.10.8"
  }
 },
 "nbformat": 4,
 "nbformat_minor": 5
}
